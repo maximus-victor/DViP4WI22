{
  "nbformat": 4,
  "nbformat_minor": 0,
  "metadata": {
    "colab": {
      "name": "Sample_Generator.ipynb",
      "provenance": [],
      "collapsed_sections": [
        "VZmFuvxUKLB0",
        "mIsKfKqBtgx_"
      ]
    },
    "kernelspec": {
      "display_name": "Python 3",
      "name": "python3"
    },
    "language_info": {
      "name": "python"
    }
  },
  "cells": [
    {
      "cell_type": "code",
      "metadata": {
        "colab": {
          "base_uri": "https://localhost:8080/"
        },
        "id": "LgvA3y3YL1H0",
        "outputId": "997e98ed-6dc9-459e-e729-bb4c84b7cbd7"
      },
      "source": [
        "from google.colab import drive\n",
        "drive.mount('/content/drive')"
      ],
      "execution_count": null,
      "outputs": [
        {
          "output_type": "stream",
          "name": "stdout",
          "text": [
            "Mounted at /content/drive\n"
          ]
        }
      ]
    },
    {
      "cell_type": "markdown",
      "metadata": {
        "id": "L5FMQR1vaQHG"
      },
      "source": [
        "This notebook contains the two code for generating splinter and cirlce images \"manually\" - but automatically. By kind of \"photoshopping\" errors on good wafer images. "
      ]
    },
    {
      "cell_type": "markdown",
      "metadata": {
        "id": "g9_IYxW2w4eq"
      },
      "source": [
        "## Helper Functions"
      ]
    },
    {
      "cell_type": "code",
      "metadata": {
        "id": "5W-VG5vSKzcS"
      },
      "source": [
        "import glob\n",
        "import random\n",
        "from PIL import Image, ImageStat, ImageDraw\n",
        "\n",
        "def get_random_background():\n",
        "  filename = random.choice(glob.glob('/content/drive/MyDrive/WaferImages/good/*.tif'))\n",
        "  background = Image.open(filename).convert('RGBA')\n",
        "\n",
        "  if uniform(0, 1) > 0.5:\n",
        "    background = background.transpose(Image.FLIP_LEFT_RIGHT)\n",
        "\n",
        "  if uniform(0, 1) > 0.5:\n",
        "    background = background.transpose(Image.FLIP_TOP_BOTTOM)\n",
        "\n",
        "  return background\n",
        "\n",
        "def get_random_error(image_path):\n",
        "  filename = random.choice(glob.glob(str(image_path) + '/*.*'))\n",
        "  foreground = Image.open(filename).convert('RGBA')\n",
        "\n",
        "  return foreground\n",
        "\n",
        "def random_resize(image):\n",
        "  resize_factors = [0.5, 0.6, 0.7, 0.8, 0.9, 1.0, 1.1, 1.2, 1.3, 1.4, 1.5]\n",
        "  resize_factors_p = [0.01, 0.01, 0.01, 0.1, 0.1, 0.1, 0.01, 0.01, 0.01, 0.01, 0.01]\n",
        "\n",
        "  width, height = image.size\n",
        "  random_resize_factor = choices(resize_factors, resize_factors_p)[0]\n",
        "  image = image.resize((int(width*random_resize_factor),int(height*random_resize_factor)), Image.ANTIALIAS)\n",
        "\n",
        "  return image\n",
        "\n",
        "def random_blur(image):\n",
        "  image_width, image_height = image.size\n",
        "\n",
        "  if image_width * image_height < 1000:\n",
        "    random_blur = randint(1, 2)\n",
        "  else:\n",
        "    random_blur = randint(2, 6)\n",
        "  layer = Image.new('RGBA', (image_width + (4 * random_blur), image_height + (4 * random_blur)), (0, 0, 0, 0))\n",
        "\n",
        "  layer_width, layer_height = layer.size\n",
        "  centered_postition = ((layer_width - image_width) // 2, (layer_height - image_height) // 2)\n",
        "  layer.paste(image, centered_postition)\n",
        "\n",
        "  layer = layer.filter(ImageFilter.GaussianBlur(radius = random_blur))\n",
        "\n",
        "  return layer\n",
        "\n",
        "\n",
        "def random_blend(image):\n",
        "  image_width, image_height = image.size\n",
        "\n",
        "  layer = Image.new('RGBA', (image_width, image_height), (0,0,0,0))\n",
        "  layer = Image.blend(layer, image, 0.9)\n",
        "\n",
        "  return layer\n",
        "\n",
        "def random_rotate(image):\n",
        "  random_rotation = randint(0, 360)\n",
        "  image = image.rotate(random_rotation, expand = 1, resample = 2)\n",
        "\n",
        "  return image\n",
        "\n",
        "\n",
        "def place_on(background, image):\n",
        "  image_width, image_height = image.size\n",
        "  background_width, background_height = background.size  \n",
        "\n",
        "  random_width = randint(35, background_width - 35 - image_width)\n",
        "  random_height = randint(35, background_height - 35 - image_height)\n",
        "\n",
        "  background.paste(image, (random_width, random_height), image)\n",
        "\n",
        "  return background\n",
        "\n",
        "def check_visibility(image):\n",
        "  image_stats = ImageStat.Stat(image)\n",
        "  mean_brightness = image_stats.mean[3]\n",
        "\n",
        "  image_width, image_height = image.size\n",
        "  image_area = image_width * image_height\n",
        "\n",
        "  return mean_brightness, image_area\n"
      ],
      "execution_count": null,
      "outputs": []
    },
    {
      "cell_type": "markdown",
      "metadata": {
        "id": "VZmFuvxUKLB0"
      },
      "source": [
        "## Circle Generator"
      ]
    },
    {
      "cell_type": "markdown",
      "metadata": {
        "id": "v3GpAlm_Y4iN"
      },
      "source": [
        "This code block generated *n* numbers of circle images as defined. There are a lot of compositions possible, so tweaking around the paramters give different results."
      ]
    },
    {
      "cell_type": "code",
      "metadata": {
        "id": "ryTZgEygYTI9"
      },
      "source": [
        "# Source: https://stackoverflow.com/questions/5324647/how-to-merge-a-transparent-png-image-with-another-image-using-pil\n",
        "\n",
        "from PIL import Image, ImageShow, ImageFilter\n",
        "import matplotlib.pyplot as plt\n",
        "import matplotlib.image as mpimg\n",
        "from random import randint, uniform, choices\n",
        "import shutil\n",
        "\n",
        "def generate_circle_img(image_amount = 1):\n",
        " \n",
        "  # Generates a list of length == image_amount while each number of the list represents the amount of circle error on each image\n",
        "  number_of_errors = [1, 2, 3, 4, 5, 6, 7, 8, 9, 10, 11, 12, 13, 14, 15, 16, 17, 18, 19, 20, 21, 22, 23, 24, 25]\n",
        "  number_of_errors_p = [9, 1, 1, 1, 1, 1, 0.05, 0.05, 0.05, 0.05, 0.05, 0.05, 0.25, 0.25, 0.25, 0.25, 0.25, 0.25, 0.25, 0.25, 0.25, 0.25, 0.25, 0.25, 0.25]\n",
        "  amount_errors = choices(number_of_errors, number_of_errors_p, k=image_amount)  \n",
        "\n",
        "  for i, errors in enumerate(amount_errors):\n",
        "    # Picks a random good wafer\n",
        "    background = get_random_background()\n",
        "    background_width, background_height = background.size\n",
        "    error_was_placed = False\n",
        "\n",
        "    for error in range(0, errors):\n",
        "      error_visible = False\n",
        "      threshold_counter = 0\n",
        "\n",
        "      # Makes sure error is actually visible on wafer\n",
        "      while error_visible == False:\n",
        "        #Picks random error from the folder that holds the raw circle errors\n",
        "        error = get_random_error('/content/drive/MyDrive/SampleGeneration/errors/circle/')\n",
        "        # Resize Error based on set probabilities\n",
        "        if errors == 1:\n",
        "          resize_factors = [0.5, 0.6, 0.7, 0.8, 0.9, 1.0, 1.1, 1.2, 1.3, 1.4, 1.5]\n",
        "          resize_factors_p = [0.01, 0.01, 0.01, 0.1, 0.1, 0.05, 0.01, 0.01, 0.01, 0.01, 0.01]\n",
        "        else:\n",
        "          resize_factors = [0.2, 0.3, 0.4, 0.5, 0.6, 0.7, 0.8, 0.9, 1.0, 1.1, 1.2, 1.3, 1.4, 1.5]\n",
        "          resize_factors_p = [2, 2, 1, 0.5, 0.5, 0.5, 0.5, 0.5, 0.5, 0.5, 0.3, 0.3, 0.3, 0.1]\n",
        "        random_resize_factor = choices(resize_factors, resize_factors_p)[0]\n",
        "\n",
        "        # Blur circle dependend on resize_factor\n",
        "        if random_resize_factor < 0.7:\n",
        "          error = error.filter(ImageFilter.GaussianBlur(radius = randint(5, 7)))\n",
        "        else:\n",
        "          error = error.filter(ImageFilter.GaussianBlur(radius = randint(7, 13)))\n",
        "\n",
        "        # Resize errors \n",
        "        width, height = error.size\n",
        "        resized_error = error.resize((int(width*random_resize_factor),int(height*random_resize_factor)), Image.ANTIALIAS)\n",
        "\n",
        "        # Randomly rotate errors\n",
        "        rotated_error = random_rotate(resized_error)\n",
        "\n",
        "        # Check if they are actually visible, especially because of blurring them\n",
        "        error_brightness, error_area = check_visibility(rotated_error)\n",
        "        if error_brightness > 35 and error_area > 1000 or threshold_counter >= 50:\n",
        "          error_visible = True\n",
        "          break\n",
        "        threshold_counter += 1\n",
        "        # Break if after 50 iterations still no randomization is found that leads to a visible circle\n",
        "        if threshold_counter >= 50:\n",
        "          break\n",
        "        # Place Circle on Background if it was visible\n",
        "        else:\n",
        "          background = place_on(background, rotated_error)\n",
        "          error_was_placed = True\n",
        "\n",
        "    # Only if actually a circle was placed on the background it should be saved as a \"circle\" image obviously\n",
        "    if error_was_placed == True:\n",
        "      background = background.convert('L')\n",
        "      plt.imshow(background)\n",
        "      plt.show()\n",
        "      # Uncomment this line if you actually want to save images somewhere.\n",
        "      #background.save(\"/content/circle/\" + str(i) + \".tif\")\n",
        "\n",
        "    \n",
        "generate_circle_img(image_amount=447)\n",
        "\n",
        "\n"
      ],
      "execution_count": null,
      "outputs": []
    },
    {
      "cell_type": "markdown",
      "metadata": {
        "id": "mIsKfKqBtgx_"
      },
      "source": [
        "## Splinter Generator"
      ]
    },
    {
      "cell_type": "markdown",
      "metadata": {
        "id": "koTTYaHIZnRG"
      },
      "source": [
        "The splinter generator actually works quite simlar to the circle generator. I just uses different parameters as - of course - these are needed to represent the splinter class in a better way."
      ]
    },
    {
      "cell_type": "code",
      "metadata": {
        "id": "0PncB8eHIUxv"
      },
      "source": [
        "from PIL import Image, ImageShow, ImageFilter\n",
        "import matplotlib.pyplot as plt\n",
        "import matplotlib.image as mpimg\n",
        "from random import randint, uniform, choices\n",
        "import numpy as np\n",
        "\n",
        "\n",
        "def generate_splinter_img(image_amount):\n",
        " \n",
        "  number_of_errors = [1, 2, 3, 4, 5, 6, 7, 8, 9, 10]\n",
        "  number_of_errors_p = [16, 1, 1, 1, 1, 1, 1, 1, 1, 2]\n",
        "  amount_errors = choices(number_of_errors, number_of_errors_p, k=image_amount)\n",
        "  for i, errors in enumerate(amount_errors):\n",
        "    background = get_random_background()\n",
        "    background_width, background_height = background.size\n",
        "    error_was_placed = False\n",
        "\n",
        "    for splinter in range(0, errors):\n",
        "      error = get_random_error('/content/drive/MyDrive/SampleGeneration/errors/splinter')\n",
        "  \n",
        "     \n",
        "      # Makes sure error is actually visible on wafer\n",
        "      error_visible = False\n",
        "      threshold_counter = 0\n",
        "      while error_visible == False:\n",
        "        resized_error = random_resize(error)\n",
        "        rotated_error = random_rotate(resized_error)\n",
        "        randomized_error = random_blur(rotated_error)\n",
        "\n",
        "        error_brightness, error_area = check_visibility(randomized_error)\n",
        "        if error_brightness > 45 and error_area > 400 or threshold_counter >= 50:\n",
        "          error_visible = True\n",
        "          break\n",
        "        threshold_counter += 1\n",
        "\n",
        "      if threshold_counter >= 50:\n",
        "        break\n",
        "      else:\n",
        "        background = place_on(background, randomized_error)\n",
        "        error_was_placed = True\n",
        "        \n",
        "    if error_was_placed:\n",
        "      background = background.convert('L')\n",
        "      plt.imshow(background)\n",
        "      plt.show()\n",
        "      # Uncomment this line if you want to save the generated picture somewhere.\n",
        "      # background.save(\"/content/splinter/\" + str(i) + \".tif\")\n",
        "\n",
        "generate_splinter_img(image_amount=1000)\n",
        "\n"
      ],
      "execution_count": null,
      "outputs": []
    }
  ]
}